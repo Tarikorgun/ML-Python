{
 "cells": [
  {
   "cell_type": "markdown",
   "metadata": {},
   "source": [
    "2. Dürre klassifizieren (Vorhersage)\n",
    "    - Grundwasser Frühwarnen/Kritische Grundwasserstände\n",
    "3. Grundwassenahme für nachhaltige Nutzung/Vorhersage der Grundwasserneubildungsraten\n",
    "1. Bestimmung der Haupttreiber für Grundwasseränderungen\n",
    "4. Verbesserte Lückenfüllung für Daten"
   ]
  },
  {
   "cell_type": "code",
   "execution_count": 1,
   "metadata": {},
   "outputs": [
    {
     "name": "stdout",
     "output_type": "stream",
     "text": [
      "Hello World\n"
     ]
    }
   ],
   "source": [
    "print(\"Hello World\")"
   ]
  }
 ],
 "metadata": {
  "kernelspec": {
   "display_name": "hsmainz2025_prod",
   "language": "python",
   "name": "python3"
  },
  "language_info": {
   "codemirror_mode": {
    "name": "ipython",
    "version": 3
   },
   "file_extension": ".py",
   "mimetype": "text/x-python",
   "name": "python",
   "nbconvert_exporter": "python",
   "pygments_lexer": "ipython3",
   "version": "3.10.13"
  }
 },
 "nbformat": 4,
 "nbformat_minor": 2
}
