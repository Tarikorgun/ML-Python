{
 "cells": [
  {
   "cell_type": "markdown",
   "metadata": {},
   "source": [
    "1. Bestimmung der Haupttreiber für Grundwasseränderungen\n",
    "2. Dürre klassifizieren (Vorhersage)\n",
    "    - Grundwasser Frühwarnen/Kritische Grundwasserstände\n",
    "3. Grundwassenahme für nachhaltige Nutzung/Vorhersage der Grundwasserneubildungsraten\n",
    "4. Verbesserte Lückenfüllung für Daten"
   ]
  },
  {
   "cell_type": "markdown",
   "metadata": {},
   "source": [
    "### Dürre klassifizierung:\n",
    "Fokussieren uns auf Hydrologische Dürre\n",
    "SGI berechnung analog zum paper (Propat und Hartmann) (Analog zur Berechnung vom SSI im Paper)\n",
    "Was wir machen können:\n",
    "- Klassifizierung, ob ein Brunnen oder eine Region basierend auf aktuellen und vergangenen Bedingungen in naher Zukunft wahrscheinlich in eine Dürre eintreten wird (keine, milde, moderate, schwere, extreme)\n",
    "\n",
    "Fragen:\n",
    "- Welcher Zeitraum in die Zukunft ist angemessen\n",
    "- Welche Region wäre gut für einen Fokus"
   ]
  },
  {
   "cell_type": "markdown",
   "metadata": {},
   "source": [
    "https://pastas.readthedocs.io/v1.5.0/examples/standardized_groundwater_index.html"
   ]
  }
 ],
 "metadata": {
  "kernelspec": {
   "display_name": "hsmainz2025_prod",
   "language": "python",
   "name": "python3"
  },
  "language_info": {
   "codemirror_mode": {
    "name": "ipython",
    "version": 3
   },
   "file_extension": ".py",
   "mimetype": "text/x-python",
   "name": "python",
   "nbconvert_exporter": "python",
   "pygments_lexer": "ipython3",
   "version": "3.10.13"
  }
 },
 "nbformat": 4,
 "nbformat_minor": 2
}
