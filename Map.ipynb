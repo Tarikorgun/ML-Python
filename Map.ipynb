{
 "cells": [
  {
   "cell_type": "code",
   "execution_count": null,
   "id": "672c53b6",
   "metadata": {},
   "outputs": [],
   "source": [
    "import pandas as pd\n",
    "import matplotlib.pyplot as plt\n",
    "import matplotlib.ticker as mtick # Although not strictly needed for this simplified map, kept for consistency"
   ]
  },
  {
   "cell_type": "code",
   "execution_count": null,
   "id": "71032b3d",
   "metadata": {},
   "outputs": [],
   "source": [
    "# Load the data\n",
    "df = pd.read_csv(\"grow_attributes.csv\", delimiter=';', low_memory=False)"
   ]
  },
  {
   "cell_type": "code",
   "execution_count": null,
   "id": "7f1e9e2e",
   "metadata": {},
   "outputs": [],
   "source": [
    "# Ensure 'latitude' and 'longitude' columns exist\n",
    "if {'latitude', 'longitude'}.issubset(df.columns):\n",
    "    plt.figure(figsize=(15, 8)) # Adjust figure size\n",
    "\n",
    "    # Separate Czech Republic data from the rest\n",
    "    df_cz = df[df[\"country\"] == \"CZE\"]\n",
    "    df_other = df[df[\"country\"] != \"CZE\"]\n",
    "\n",
    "    # Plot non-Czech Republic stations in one color\n",
    "    plt.scatter(df_other['longitude'], df_other['latitude'],\n",
    "                s=1,           # Marker size\n",
    "                alpha=0.2,     # Transparency\n",
    "                color='blue',  # Color for other countries\n",
    "                label='Other Countries')\n",
    "\n",
    "    # Plot Czech Republic stations in a different color on top\n",
    "    plt.scatter(df_cz['longitude'], df_cz['latitude'],\n",
    "                s=1,          # Slightly larger marker size for emphasis\n",
    "                alpha=0.7,     # Less transparent for visibility\n",
    "                color='red',   # Distinct color for Czech Republic\n",
    "                label='Czech Republic (CZE)')\n",
    "\n",
    "    plt.title(\"Distribution of Groundwater Monitoring Stations Worldwide\")\n",
    "    plt.xlabel(\"Longitude\")\n",
    "    plt.ylabel(\"Latitude\")\n",
    "\n",
    "    # Set approximate world map limits for better visualization\n",
    "    # These values cover most of the Earth's surface\n",
    "    plt.xlim(-180, 180)\n",
    "    plt.ylim(-90, 90)\n",
    "\n",
    "    # Add a grid for better spatial orientation (optional)\n",
    "    plt.grid(True, linestyle='--', alpha=0.6)\n",
    "\n",
    "    plt.legend(markerscale=2) # Show legend to differentiate colors, adjust marker size in legend\n",
    "    plt.tight_layout()\n",
    "    plt.savefig(\"karte_messstellen_scatterplot_simple_world.png\", dpi=300)\n",
    "    plt.show()\n",
    "else:\n",
    "    print(\"Columns 'latitude' and 'longitude' not found in the DataFrame. Skipping map plot.\")"
   ]
  }
 ],
 "metadata": {
  "jupytext": {
   "cell_metadata_filter": "-all",
   "main_language": "python",
   "notebook_metadata_filter": "-all"
  },
  "kernelspec": {
   "display_name": "Python 3",
   "language": "python",
   "name": "python3"
  },
  "language_info": {
   "name": "python",
   "version": "3.12.10"
  }
 },
 "nbformat": 4,
 "nbformat_minor": 5
}
